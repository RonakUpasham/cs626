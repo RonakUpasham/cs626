{
 "cells": [
  {
   "cell_type": "code",
   "execution_count": 1,
   "metadata": {},
   "outputs": [],
   "source": [
    "from sklearn.datasets import fetch_20newsgroups\n",
    "from sklearn.feature_extraction.text import CountVectorizer\n",
    "from sklearn.decomposition import LatentDirichletAllocation\n",
    "import pandas as pd"
   ]
  },
  {
   "cell_type": "code",
   "execution_count": 9,
   "metadata": {},
   "outputs": [
    {
     "data": {
      "text/plain": [
       "(25000, 4)"
      ]
     },
     "execution_count": 9,
     "metadata": {},
     "output_type": "execute_result"
    }
   ],
   "source": [
    "# Assuming you have a CSV file with a 'text' column containing the movie reviews\n",
    "csv_file_path1 = 'imdb_train_sup.csv'\n",
    "df = pd.read_csv(csv_file_path1)\n",
    "data_samples1 = df['Review'].tolist()\n",
    "df.shape"
   ]
  },
  {
   "cell_type": "code",
   "execution_count": 10,
   "metadata": {},
   "outputs": [
    {
     "name": "stdout",
     "output_type": "stream",
     "text": [
      "Extracting features from the dataset using a vectorizer\n",
      "Fitting LDA models with tf features\n",
      "Topic #1: version, war, american, sex, english, british, women, nudity, japanese, office, men, german, military, london, shots, french, box, country, language, world\n",
      "Topic #2: killer, police, credits, crime, cop, pathetic, kills, weird, violent, detective, tony, mary, killed, opening, violence, killing, garbage, body, thriller, sister\n",
      "Topic #3: music, song, happy, musical, songs, christmas, dance, dancing, singing, love, sequence, magic, number, culture, stage, fantasy, score, opening, best, theme\n",
      "Topic #4: man, girl, gets, woman, house, wife, goes, car, young, old, guy, help, scene, home, wants, later, starts, away, dead, comes\n",
      "Topic #5: book, jane, escape, prison, follows, accent, inside, tried, sister, break, deep, famous, reasons, choice, fear, barely, baby, seriously, leaving, filmed\n",
      "Topic #6: episode, tv, episodes, shows, fi, great, sci, television, season, original, band, dvd, good, ben, cast, watch, fan, best, time, fans\n",
      "Topic #7: br, film, story, like, time, just, character, plot, scene, movie, good, characters, scenes, does, end, way, little, make, really, point\n",
      "Topic #8: film, school, high, earth, world, space, video, computer, human, release, reality, planet, dvd, sequence, footage, time, images, nature, minutes, years\n",
      "Topic #9: film, best, character, john, films, performance, director, actor, picture, oscar, story, screen, scott, ghost, william, plot, robert, mystery, smith, win\n",
      "Topic #10: movie, movies, good, bad, like, just, really, seen, watch, time, acting, don, ve, worst, watching, great, think, better, 10, did\n",
      "Topic #11: film, films, original, style, art, king, animation, disney, action, work, years, story, great, hollywood, cinema, classic, animated, quite, seen, la\n",
      "Topic #12: just, like, people, really, film, don, think, know, make, movie, didn, did, way, say, thing, time, characters, bad, good, doesn\n",
      "Topic #13: family, kids, children, child, old, film, young, story, year, parents, love, kid, little, age, life, boy, adult, acted, mother, daughter\n",
      "Topic #14: father, son, brother, man, life, mother, men, documentary, people, shoot, island, sister, power, lives, tom, political, home, day, family, paul\n",
      "Topic #15: horror, film, bad, budget, acting, effects, low, good, plot, blood, gore, pretty, special, script, flick, scenes, zombie, action, director, like\n",
      "Topic #16: series, new, black, town, years, white, like, time, old, jack, tv, york, just, city, george, team, did, small, later, remember\n",
      "Topic #17: film, story, great, role, good, movie, cast, life, love, does, character, performance, actors, time, play, characters, real, man, played, director\n",
      "Topic #18: br, funny, comedy, like, fun, good, game, bad, laugh, humor, just, guy, comic, hilarious, movie, guys, laughs, pretty, isn, 10\n",
      "Topic #19: voice, jokes, hot, cartoon, producers, brain, camp, animated, air, hilarious, language, group, unfortunately, humor, supposed, classic, theme, funny, example, 80\n",
      "Topic #20: ask, gun, business, western, west, steve, south, open, stewart, james, revenge, viewer, heavy, american, kept, shooting, conclusion, getting, surprise, america\n"
     ]
    }
   ],
   "source": [
    "\n",
    "# Use CountVectorizer to convert a collection of text documents to a matrix of token counts\n",
    "print(\"Extracting features from the dataset using a vectorizer\")\n",
    "vectorizer = CountVectorizer(max_features=1000, stop_words='english')\n",
    "data_samples1 = vectorizer.fit_transform(data_samples1)\n",
    "\n",
    "# Fit the LDA model\n",
    "print(\"Fitting LDA models with tf features\")\n",
    "lda = LatentDirichletAllocation(n_components=20, max_iter=5, learning_method='online', learning_offset=50., random_state=0)\n",
    "lda.fit(data_samples1)\n",
    "\n",
    "# Display the top words for each topic\n",
    "feature_names = vectorizer.get_feature_names_out()\n",
    "n_top_words = 20\n",
    "for topic_idx, topic in enumerate(lda.components_):\n",
    "    top_words_idx = topic.argsort()[:-n_top_words - 1:-1]\n",
    "    top_words = [feature_names[i] for i in top_words_idx]\n",
    "    print(f\"Topic #{topic_idx + 1}: {', '.join(top_words)}\")\n"
   ]
  },
  {
   "cell_type": "code",
   "execution_count": 2,
   "metadata": {},
   "outputs": [],
   "source": [
    "\n",
    "# Assuming you have a CSV file with a 'text' column containing the movie reviews\n",
    "csv_file_path = 'panglee_sup.csv'\n",
    "df = pd.read_csv(csv_file_path)\n",
    "data_samples = df['Review'].tolist()"
   ]
  },
  {
   "cell_type": "code",
   "execution_count": 3,
   "metadata": {},
   "outputs": [
    {
     "name": "stdout",
     "output_type": "stream",
     "text": [
      "Extracting features from the dataset using a vectorizer\n",
      "Fitting LDA models with tf features\n",
      "Topic #1: movie, film, young, characters, films, does, actually, wonder, making, makes, style, time, heard, boys, doesn, wars, believe, like, good, isn\n",
      "Topic #2: family, art, film, life, evil, films, work, director, master, like, great, human, elements, project, classic, heart, including, quality, seen, romance\n",
      "Topic #3: disney, jackie, murphy, animated, chan, eddie, animation, tarzan, films, hong, voice, king, action, film, brown, tarantino, like, mr, movie, fight\n",
      "Topic #4: good, movie, effects, plot, interesting, small, starts, hours, great, special, best, takes, amazing, real, home, jones, points, fall, start, lee\n",
      "Topic #5: film, movie, good, like, just, time, character, plot, bad, scene, characters, make, really, action, big, story, scenes, does, great, best\n",
      "Topic #6: harry, spielberg, cop, williams, ex, jack, young, actors, gives, film, old, come, case, like, john, gun, cast, prison, best, husband\n",
      "Topic #7: film, man, father, person, like, best, time, movie, end, night, kind, movies, town, performance, daughter, characters, hard, officer, films, quite\n",
      "Topic #8: joe, black, death, meet, young, dream, york, american, hours, daughter, human, party, course, job, island, image, movie, dumb, longer, time\n",
      "Topic #9: movie, like, film, world, love, old, great, good, return, long, father, story, heart, lost, action, little, know, son, original, films\n",
      "Topic #10: characters, development, movie, master, relationship, led, french, music, approach, tension, film, believe, wonder, left, american, playing, films, people, meet, boss\n",
      "Topic #11: truman, trek, carrey, star, wedding, jim, julia, film, series, best, good, television, fans, friend, funny, movie, perfect, comedy, audience, cast\n",
      "Topic #12: park, run, movie, baby, like, ve, ii, old, seen, funny, film, team, lost, brothers, day, race, fun, plan, jones, family\n",
      "Topic #13: film, movie, like, just, time, effects, story, special, alien, new, good, films, know, series, character, plot, original, earth, world, does\n",
      "Topic #14: film, life, story, world, man, like, characters, way, does, character, people, time, films, just, scream, real, killer, director, sense, horror\n",
      "Topic #15: earth, does, doctor, men, movie, people, like, country, group, time, story, place, violence, political, shows, level, films, despite, just, things\n",
      "Topic #16: film, like, just, movie, character, characters, little, story, time, way, director, plot, make, good, 10, work, films, new, scenes, bad\n",
      "Topic #17: frank, cage, john, city, 1998, york, thriller, great, father, son, eyes, named, relationship, novel, detective, dead, chase, future, new, version\n",
      "Topic #18: movie, like, just, good, love, know, people, bad, time, family, really, life, think, does, little, way, ve, don, comedy, going\n",
      "Topic #19: wild, sam, west, things, film, smith, kevin, sex, blue, twists, summer, ryan, character, van, rich, thing, mother, plot, town, thriller\n",
      "Topic #20: allen, woody, dog, giant, story, film, tim, character, voice, quite, political, kind, real, doing, clever, work, president, takes, old, children\n"
     ]
    }
   ],
   "source": [
    "\n",
    "# Use CountVectorizer to convert a collection of text documents to a matrix of token counts\n",
    "print(\"Extracting features from the dataset using a vectorizer\")\n",
    "vectorizer = CountVectorizer(max_features=1000, stop_words='english')\n",
    "data_samples = vectorizer.fit_transform(data_samples)\n",
    "\n",
    "# Fit the LDA model\n",
    "print(\"Fitting LDA models with tf features\")\n",
    "lda = LatentDirichletAllocation(n_components=20, max_iter=5, learning_method='online', learning_offset=50., random_state=0)\n",
    "lda.fit(data_samples)\n",
    "\n",
    "# Display the top words for each topic\n",
    "feature_names = vectorizer.get_feature_names_out()\n",
    "n_top_words = 20\n",
    "for topic_idx, topic in enumerate(lda.components_):\n",
    "    top_words_idx = topic.argsort()[:-n_top_words - 1:-1]\n",
    "    top_words = [feature_names[i] for i in top_words_idx]\n",
    "    print(f\"Topic #{topic_idx + 1}: {', '.join(top_words)}\")\n"
   ]
  }
 ],
 "metadata": {
  "kernelspec": {
   "display_name": "Python 3",
   "language": "python",
   "name": "python3"
  },
  "language_info": {
   "codemirror_mode": {
    "name": "ipython",
    "version": 3
   },
   "file_extension": ".py",
   "mimetype": "text/x-python",
   "name": "python",
   "nbconvert_exporter": "python",
   "pygments_lexer": "ipython3",
   "version": "3.11.4"
  }
 },
 "nbformat": 4,
 "nbformat_minor": 2
}
